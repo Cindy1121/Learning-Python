{
  "nbformat": 4,
  "nbformat_minor": 0,
  "metadata": {
    "colab": {
      "name": "Untitled0.ipynb",
      "version": "0.3.2",
      "provenance": [],
      "include_colab_link": true
    },
    "kernelspec": {
      "name": "python3",
      "display_name": "Python 3"
    }
  },
  "cells": [
    {
      "cell_type": "markdown",
      "metadata": {
        "id": "view-in-github",
        "colab_type": "text"
      },
      "source": [
        "<a href=\"https://colab.research.google.com/github/Cindy1121/Learning-Python/blob/master/List%20practice.ipynb\" target=\"_parent\"><img src=\"https://colab.research.google.com/assets/colab-badge.svg\" alt=\"Open In Colab\"/></a>"
      ]
    },
    {
      "metadata": {
        "id": "94zzsW_4oHG5",
        "colab_type": "code",
        "colab": {
          "base_uri": "https://localhost:8080/",
          "height": 101
        },
        "outputId": "0f94c166-a643-4120-a805-bb475ec218e9"
      },
      "cell_type": "code",
      "source": [
        "list = [1,2,3,4,5]\n",
        "for i in list:\n",
        "  index = list.index(i)\n",
        "  print(i,index)"
      ],
      "execution_count": 1,
      "outputs": [
        {
          "output_type": "stream",
          "text": [
            "1 0\n",
            "2 1\n",
            "3 2\n",
            "4 3\n",
            "5 4\n"
          ],
          "name": "stdout"
        }
      ]
    }
  ]
}